{
 "cells": [
  {
   "cell_type": "markdown",
   "metadata": {},
   "source": [
    "# Maximizing Risk-Free Bets on Online Sportsbooks"
   ]
  },
  {
   "cell_type": "markdown",
   "metadata": {},
   "source": [
    "#### By Ethan Orlowsky"
   ]
  },
  {
   "cell_type": "markdown",
   "metadata": {},
   "source": [
    "## Introduction\n",
    "\n",
    "Sportsbook occasionally offer promotions that offer users risk-free bets. A risk-free bet is one that pays out normally if it wins, but rewards you with a free bet equal to the size of your losing bet in the case you lose. \n",
    "\n",
    "A free bet is one that rewards you with the profit of a bet, but not the principal. Implied by the name, if you lose a free bet, you don't actually lose any money. \n",
    "\n",
    "While there is a well-defined way to maximize the rewards for the free bet you receive ([Oddsjam](https://oddsjam.com/betting-tools/free-bet-converter)), I was unable to find resources on how to maximize risk-free bets. I will explore one strategy in this notebook that relies on two sportsbook offering risk-free bets, and using them in conjunction to guarantee a profit.\n",
    "\n",
    "This is how I made $718.13 without risking a single dollar"
   ]
  },
  {
   "cell_type": "markdown",
   "metadata": {},
   "source": [
    "## Setup\n",
    "\n",
    "For this opportunity, we will assume there are two sportsbooks\n",
    "1. Sportsbook A has a risk-free bet up to \\$1000 \n",
    "2. Sportsbook B has a risk-free bet up to \\$1500\n",
    "\n",
    "I chose this setup because at the time of this project, BetMGM (Sportsbook A) and Caesars (Sportsbook B) were offering these promotions."
   ]
  },
  {
   "cell_type": "markdown",
   "metadata": {},
   "source": [
    "## Maximizing the Free Bet"
   ]
  },
  {
   "cell_type": "markdown",
   "metadata": {},
   "source": [
    "### Setup\n",
    "\n",
    "To maximize the risk-free bet, we will work backwards and first solve for how to maximize the free bet. To make the notion of a free bet more concrete, here is an example of how a free bet pays off.\n",
    "\n",
    "Ex:\n",
    "- Suppose we have a $1000 free bet\n",
    "- Assume we place our $1000 free bet on a bet with +150 odds\n",
    "    - If we win, we win $1500\n",
    "    - If we lose, our account balance stays the same\n",
    "\n",
    "More genearlly, we want to know how to maximize a free bet of \\$f. To maximize our minimum winnings, the free bet should be used on the underdog, with a hedge on the other side of the bet using a different sportsbook."
   ]
  },
  {
   "cell_type": "markdown",
   "metadata": {},
   "source": [
    "### Bettor Choices\n",
    "\n",
    "A bettor must decide at what odds to place their bet ($+a$ and $-b$) and how big their hedge (\\$ $H$) should be. Note that since we can't lose money with free bets, the maximum free bet amount should be wagered."
   ]
  },
  {
   "cell_type": "markdown",
   "metadata": {},
   "source": [
    "### Calculations\n",
    "\n",
    "- If the free bet wins, the bettor nets\n",
    "    $$\\text{profit} = \\frac{af}{100} - H$$\n",
    "\n",
    "- If the hedge bet wins, the bettor nets\n",
    "    $$\\text{profit} = \\frac{100H}{b}$$\n",
    "\n",
    "To maximize our minimum reward, we will set the profits in both scenarios equal. Solving for $H$ yields\n",
    "    $$H = \\frac{abf}{100(100+b)}$$\n",
    "\n",
    "This guarantees a profit of\n",
    "    $$\\text{profit} = \\frac{af}{100 + b}$$"
   ]
  },
  {
   "cell_type": "markdown",
   "metadata": {},
   "source": [
    "### Calculating Payoffs for a given set of odds"
   ]
  },
  {
   "cell_type": "code",
   "execution_count": 2,
   "metadata": {},
   "outputs": [],
   "source": [
    "import matplotlib.pyplot as plt\n",
    "import numpy as np"
   ]
  },
  {
   "cell_type": "code",
   "execution_count": 3,
   "metadata": {},
   "outputs": [],
   "source": [
    "def hedge(a, b, f):\n",
    "    return a * b * f / (100 * (100 + b))\n",
    "\n",
    "def free_bet_profit(a, b, f):\n",
    "    return a * f / (100 + b)"
   ]
  },
  {
   "cell_type": "markdown",
   "metadata": {},
   "source": [
    "You can change a, b, and f below to see how these factors affect your guaranteed profit"
   ]
  },
  {
   "cell_type": "code",
   "execution_count": 18,
   "metadata": {},
   "outputs": [
    {
     "name": "stdout",
     "output_type": "stream",
     "text": [
      "Assume a bettor has a $1,500 free bet, and takes both sides of a +150 and -170 bet\n",
      "The optimal hedge size is $1,416.67 and guarantees $833.33 in profit\n"
     ]
    }
   ],
   "source": [
    "a, b, f = 150, 170, 1500\n",
    "print(f\"Assume a bettor has a ${f:,} free bet, and takes both sides of a +{a} and -{b} bet\")\n",
    "\n",
    "h = hedge(a, b, f)\n",
    "p = free_bet_profit(a, b, f)\n",
    "\n",
    "print(f\"The optimal hedge size is ${h:,.2f} and guarantees ${p:,.2f} in profit\")"
   ]
  },
  {
   "cell_type": "markdown",
   "metadata": {},
   "source": [
    "### How to Choose Odds\n",
    "\n",
    "Since odds are always changing, its not a guarantee that the most profitable odds you want to bet will be available. This next visualization will help you decide which odds you should pick to maximize your profit given the opportunities available on the sportsbook you're using."
   ]
  },
  {
   "cell_type": "code",
   "execution_count": 25,
   "metadata": {},
   "outputs": [
    {
     "data": {
      "image/png": "[encoded data removed]",
      "text/plain": [
       "<Figure size 1080x504 with 4 Axes>"
      ]
     },
     "metadata": {
      "needs_background": "light"
     },
     "output_type": "display_data"
    }
   ],
   "source": [
    "# free bet size\n",
    "f = 1500\n",
    "\n",
    "odds_range = np.linspace(100.0, 500.0, 100)\n",
    "  \n",
    "[X, Y] = np.meshgrid(odds_range, odds_range)\n",
    "\n",
    "# only show non-arbitrage betting opportunities, since arbitrages are very rare\n",
    "X, Y = np.tril(X).clip(100), np.tril(Y).clip(100)\n",
    "  \n",
    "fig, [ax1, ax2] = plt.subplots(1, 2)\n",
    "\n",
    "Z1 = hedge(X, Y, f)\n",
    "h1 = ax1.contourf(X, Y, Z1)\n",
    "  \n",
    "ax1.set_title('Hedge Bet Size vs Odds Chosen')\n",
    "ax1.set_xlabel('underdog odds')\n",
    "ax1.set_ylabel('favorite odds')\n",
    "fig.colorbar(h1, ax=ax1)\n",
    "ax1.axis('square')\n",
    "ax1.scatter(a, b, color='red')\n",
    "\n",
    "Z2 = free_bet_profit(X, Y, f)\n",
    "h2 = ax2.contourf(X, Y, Z2)\n",
    "  \n",
    "ax2.set_title('Profitability vs Odds Chosen')\n",
    "ax2.set_xlabel('underdog odds')\n",
    "ax2.set_ylabel('favorite odds')\n",
    "fig.colorbar(h2, ax=ax2)\n",
    "ax2.axis('square')\n",
    "ax2.scatter(a, b, color='red')\n",
    "\n",
    "fig.set_size_inches(15, 7)\n",
    "plt.show()"
   ]
  },
  {
   "cell_type": "markdown",
   "metadata": {},
   "source": [
    "### Chart Interpretation\n",
    "\n",
    "For both charts, we only show the upper left triangle because anything in the lower right triangle represents an arbitrage opportunity. Arbitrage opportunities are rare, so they distract from the realm of potentially available bet pairs\n",
    "\n",
    "- Left Chart\n",
    "    - X-axis plots the underdog odds (+a), Y-axis plots the favorite odds (-b), color represents optimal hedge bet size\n",
    "    - Lighter colors represent bigger hedge bets, so as the odds get longer on both sides, the bigger the hedge bet must be\n",
    "- Right Chart\n",
    "    - X-axis plots the underdog odds (+a), Y-axis plots the favorite odds (-b), color represents guaranteed profit\n",
    "    - Lighter colors represent bigger profits, so as the odds get bigger/closer to fair value, the bigger the profit becomes\n",
    "\n",
    "__Takeaways__\n",
    "- As odds get longer, the hedge bet becomes prohibitively expensive (Upwards of $5000)\n",
    "- Bigger profits require bigger hedges"
   ]
  },
  {
   "cell_type": "markdown",
   "metadata": {},
   "source": [
    "### Final Free Bet Recommendation\n",
    "\n",
    "In general, you should aim to profit 60-70% of the free bet size. Achieving this goal could require large hedge bets, but guarantees you a larger profit."
   ]
  },
  {
   "cell_type": "markdown",
   "metadata": {},
   "source": [
    "## Maximizng the Risk-Free Bet"
   ]
  },
  {
   "cell_type": "markdown",
   "metadata": {},
   "source": [
    "### Setup\n",
    "\n",
    "Now that we know how much we can expect to receive from a free bet, we can calculate the optimal strategy for our risk-free bet. First, lets run through a quick example of the potential outcomes of a risk-free bet\n",
    "\n",
    "Ex:\n",
    "- Suppose we have a $1000 risk-free bet\n",
    "- Assume we place our $1000 risk-free bet on a bet with +150 odds\n",
    "    - If we win, we win $2500. This is a net of $1500 profit.\n",
    "    - If we lose, we lose $1000 and receive a $1000 free bet\n",
    "\n",
    "We want to maximize a risk-free bet of \\$f. Again, we will want to use the risk-free bet should on the underdog, with a hedge on the other side of the bet using a different sportsbook."
   ]
  },
  {
   "cell_type": "markdown",
   "metadata": {},
   "source": [
    "### Bettor Choices\n",
    "\n",
    "A bettor must decide what bet sizes to use ($b_1$ and $b_2$) and at what odds ($+a$ and $-b$). To guarantee profit, we will take both sides of a bet using two risk-free bets on different sportsbooks, so we guarantee one of the bets will win. Since we _can_ lose money with free bets, it's not always the best idea to bet the risk-free bet limit."
   ]
  },
  {
   "cell_type": "markdown",
   "metadata": {},
   "source": [
    "### Calculations\n",
    "\n",
    "- If the risk-free bet on Sportsbook A wins, the bettor nets\n",
    "    $$\\frac{ab_1}{100} + f(b_2) - b_2$$\n",
    "\n",
    "- If the risk-free bet on Sportsbook B wins, the bettor nets\n",
    "    $$\\frac{100b_2}{b} + f(b_1) - b_1$$\n",
    "\n",
    "__Note:__ $f(x)$ represents the profit we receive from a free bet of size $x.\n",
    "\n",
    "To maximize our minimum gain, we will set the two profits for each possible outcome equal to each other. This yields the formula\n",
    "\n",
    "$$\\frac{ab_1}{100} + f(b_2) - b_2 = \\frac{100b_2}{b} + f(b_1) - b_1$$\n",
    "\n",
    "If we assume that we can convert our free bet at a rate of $C$ so that $f(x) = Cx$, then we can solve for $b_1$\n",
    "\n",
    "$$b_1 = \\frac{100(100+b(1-C))}{b(a+100(1-C))}b_2$$\n",
    "\n",
    "But since the risk-free bet limit is $1000 for Sportsbook A (the book we're making the bet $b_1$ on), we must cap the bet. The formula for $b_1$ now becomes\n",
    "\n",
    "$$b_1 = \\min\\left\\{\\frac{100(100+b(1-C))}{b(a+100(1-C))}b_2, ~ 1000\\right\\}$$\n",
    "\n",
    "Choosing a $b_2$ that makes the optimal bet go over $1000 is bad. That is because a part of our bet on Sportsbook B will go unhedged. Thus, we should always aim to get $b_1 = 1000$. Similarly, if the bet $b_2$ needed to make $b_1 = 1000$ is greater than $1500, we will want to cap $b_2$ to be $1500. In this case, $b_1$ will be less than $1000.\n",
    "\n",
    "Choosing bet sizes for $b_1$ and $b_2$ within the limits then yields a profit of\n",
    "\n",
    "$$\\text{profit} = \\frac{ab_1}{100} + b_2(C-1)$$\n",
    "\n",
    "Assuming that this overall strategy is profitable (which will turn out to be a good assumption), we see that it is strictly better to make $b_2$ as large as possible. If we instead solved in terms of $b_1$, we would come to this same conclusion. So at least one of $b_1$ and $b_2$ will be at the risk-free bet limit. Here are the accompanying calculations for if we choose $b_1$ instead\n",
    "\n",
    "$$b_2 = \\min\\left\\{\\frac{b(a + 100(1-C))}{100(100 + b(1-C))}b_1, ~ 1500 \\right\\}$$\n",
    "\n",
    "$$\\text{profit} = \\frac{100b_2}{b} + b_1(C-1)$$"
   ]
  },
  {
   "cell_type": "markdown",
   "metadata": {},
   "source": [
    "When deciding whether to set your bet with Sportsbook A to \\$1000, or \\$1500 with Sportsbook B, you will choose the one such that the other bet is below the maximum risk-free bet threshold"
   ]
  },
  {
   "cell_type": "code",
   "execution_count": 27,
   "metadata": {},
   "outputs": [],
   "source": [
    "# The optimal bet size for b1 when b2 is set to 1500\n",
    "def b1(a, b, C):\n",
    "    return 100 * (100 + b * (1 - C)) / (b * (a + 100 * (1 - C))) * 1500\n",
    "\n",
    "# The optimal bet size for b2 when b1 is set to 1000\n",
    "def b2(a, b, C):\n",
    "    return b * (a + 100 * (1 - C)) / (100 * (100 + b * (1 - C))) * 1000\n",
    "\n",
    "def p1(a, b, C, b1, b2):\n",
    "    return a * b1 / 100 + b2 * (C - 1)\n",
    "\n",
    "def p2(a, b, C, b1, b2):\n",
    "    return 100 * b2 / b + b1 * (C - 1)"
   ]
  },
  {
   "cell_type": "markdown",
   "metadata": {},
   "source": [
    "We will set the free bet conversion rate to 65%. This is right in the middle of the suggested conversion range goal of 60%-70%. "
   ]
  },
  {
   "cell_type": "code",
   "execution_count": 35,
   "metadata": {},
   "outputs": [
    {
     "data": {
      "image/png": "[encoded data removed]",
      "text/plain": [
       "<Figure size 1440x504 with 6 Axes>"
      ]
     },
     "metadata": {
      "needs_background": "light"
     },
     "output_type": "display_data"
    }
   ],
   "source": [
    "# free bet conversion rate\n",
    "C = 0.65\n",
    "\n",
    "odds_range = np.linspace(100.0, 180.0, 100)\n",
    "  \n",
    "[X, Y] = np.meshgrid(odds_range, odds_range)\n",
    "\n",
    "# only show non-arbitrage betting opportunities, since arbitrages are very rare\n",
    "X, Y = np.tril(X).clip(100), np.tril(Y).clip(100)\n",
    "  \n",
    "fig, [ax1, ax2, ax3] = plt.subplots(1, 3)\n",
    "\n",
    "# option where we set bet 1 to $1000\n",
    "bet2 = b2(X, Y, C)\n",
    "profit1 = p1(X, Y, C, 1000, bet2)\n",
    "\n",
    "# option where we set bet 2 to $1500\n",
    "bet1 = b1(X, Y, C)\n",
    "profit2 = p2(X, Y, C, bet1, 1500)\n",
    "\n",
    "# Taking the minimum, picks the profit corresponding to bet sizes under the risk-free bet limits\n",
    "Z1 = np.minimum(profit1, profit2)\n",
    "\n",
    "h1 = ax1.contourf(X, Y, np.clip(bet1, None, 1000))\n",
    "\n",
    "ax1.set_title('Bet 1 Size vs Odds Chosen')\n",
    "ax1.set_xlabel('underdog odds')\n",
    "ax1.set_ylabel('favorite odds')\n",
    "fig.colorbar(h1, ax=ax1)\n",
    "ax1.axis('square')\n",
    "\n",
    "h2 = ax2.contourf(X, Y, np.clip(bet2, None, 1500))\n",
    "\n",
    "ax2.set_title('Bet 2 Size vs Odds Chosen')\n",
    "ax2.set_xlabel('underdog odds')\n",
    "ax2.set_ylabel('favorite odds')\n",
    "fig.colorbar(h2, ax=ax2)\n",
    "ax2.axis('square')\n",
    "\n",
    "h3 = ax3.contourf(X, Y, Z1)\n",
    "\n",
    "ax3.set_title('Profitability vs Odds Chosen')\n",
    "ax3.set_xlabel('underdog odds')\n",
    "ax3.set_ylabel('favorite odds')\n",
    "fig.colorbar(h3, ax=ax3)\n",
    "ax3.axis('square')\n",
    "\n",
    "fig.set_size_inches(20, 7)\n",
    "plt.show()"
   ]
  },
  {
   "cell_type": "markdown",
   "metadata": {},
   "source": [
    "### Chart Interpretation\n",
    "\n",
    "For all three charts, we only show the upper left triangle because anything in the lower right triangle represents an arbitrage opportunity. Arbitrage opportunities are rare, so they distract from the realm of potentially available bet pairs\n",
    "\n",
    "- Left Chart\n",
    "    - X-axis plots the underdog odds (+a), Y-axis plots the favorite odds (-b), color represents optimal $b_1$ bet size when $b_2 = 1500$\n",
    "    - Lighter colors represent bigger bets on Sportsbook A\n",
    "    - The solid mustard color block represents the bet pairs where you should max out $b_1$ to be $1500, and maxing out $b_2$ is not the best decision\n",
    "- Middle Chart\n",
    "    - X-axis plots the underdog odds (+a), Y-axis plots the favorite odds (-b), color represents optimal $b_2$ bet size when $b_1 = 1000$\n",
    "    - Lighter colors represent bigger bets on Sportsbook B\n",
    "    - The solid mustard color block represents the bet pairs where you should max out $b_2$ to be $1000, and maxing out $b_1$ is not the best decision\n",
    "- Right Chart\n",
    "    - X-axis plots the underdog odds (+a), Y-axis plots the favorite odds (-b), color represents guaranteed profit\n",
    "    - Lighter colors represent bigger profits, so there is a sweetspot in the middle of the chart that bettors should aim for\n",
    "\n",
    "__Takeaways__\n",
    "- Always maximize one of your risk-free bets\n",
    "- The best risk-free bet pairing is around +130 and -135. This corresponds to an guaranteed profit just shy of $800"
   ]
  }
 ],
 "metadata": {
  "interpreter": {
   "hash": "5109d816b82be14675a6b11f8e0f0d2e80f029176ed3710d54e125caa8520dfd"
  },
  "kernelspec": {
   "display_name": "Python 3.7.4 64-bit",
   "language": "python",
   "name": "python3"
  },
  "language_info": {
   "codemirror_mode": {
    "name": "ipython",
    "version": 3
   },
   "file_extension": ".py",
   "mimetype": "text/x-python",
   "name": "python",
   "nbconvert_exporter": "python",
   "pygments_lexer": "ipython3",
   "version": "3.7.4"
  },
  "orig_nbformat": 4
 },
 "nbformat": 4,
 "nbformat_minor": 2
}
